{
 "cells": [
  {
   "cell_type": "markdown",
   "id": "43021e37-c4fa-46e0-b96f-567ad49fd064",
   "metadata": {},
   "source": [
    "# Step 1: Import Libraries"
   ]
  },
  {
   "cell_type": "code",
   "id": "9c6f3bea-b36a-4062-918c-9c8e19c839dc",
   "metadata": {
    "ExecuteTime": {
     "end_time": "2025-09-25T17:53:40.130255Z",
     "start_time": "2025-09-25T17:53:40.118795Z"
    }
   },
   "source": [
    "import pandas as pd\n",
    "import seaborn as sns\n",
    "import matplotlib.pyplot as plt\n",
    "import numpy as np\n",
    "\n",
    "from sklearn.preprocessing import StandardScaler\n",
    "from sklearn.model_selection import train_test_split\n",
    "from sklearn.linear_model import LogisticRegression\n",
    "from sklearn.metrics import accuracy_score, classification_report, confusion_matrix, roc_auc_score, precision_score, recall_score, f1_score\n",
    "from sklearn.ensemble import RandomForestClassifier\n",
    "from xgboost import XGBClassifier\n",
    "from sklearn.metrics import precision_recall_curve, average_precision_score\n",
    "import joblib  \n",
    "from sklearn.ensemble import IsolationForest\n",
    "\n",
    "from tensorflow.keras.models import Model\n",
    "from tensorflow.keras.layers import Input, Dense\n",
    "from tensorflow.keras.optimizers import Adam\n",
    "\n",
    "from imblearn.under_sampling import RandomUnderSampler\n",
    "from imblearn.over_sampling import SMOTE\n",
    "\n",
    "from sklearn.pipeline import Pipeline\n",
    "from sklearn.preprocessing import StandardScaler"
   ],
   "outputs": [],
   "execution_count": 9
  },
  {
   "cell_type": "markdown",
   "id": "a608d4fb-0776-49c7-9f6e-eb6d73cede8c",
   "metadata": {},
   "source": [
    "# Step 2: Load the Dataset"
   ]
  },
  {
   "cell_type": "code",
   "id": "6a0260f8-395d-44b6-b290-95161865612c",
   "metadata": {
    "ExecuteTime": {
     "end_time": "2025-09-25T17:53:44.039167Z",
     "start_time": "2025-09-25T17:53:40.148248Z"
    }
   },
   "source": [
    "data = pd.read_csv(r\"creditcard.csv\")"
   ],
   "outputs": [],
   "execution_count": 10
  },
  {
   "cell_type": "code",
   "id": "531843b0-32d5-4dda-991b-6a6f75ae7b84",
   "metadata": {
    "ExecuteTime": {
     "end_time": "2025-09-25T17:53:44.258294Z",
     "start_time": "2025-09-25T17:53:44.088200Z"
    }
   },
   "source": [
    "data"
   ],
   "outputs": [
    {
     "data": {
      "text/plain": [
       "            Time         V1         V2        V3        V4        V5  \\\n",
       "0            0.0  -1.359807  -0.072781  2.536347  1.378155 -0.338321   \n",
       "1            0.0   1.191857   0.266151  0.166480  0.448154  0.060018   \n",
       "2            1.0  -1.358354  -1.340163  1.773209  0.379780 -0.503198   \n",
       "3            1.0  -0.966272  -0.185226  1.792993 -0.863291 -0.010309   \n",
       "4            2.0  -1.158233   0.877737  1.548718  0.403034 -0.407193   \n",
       "...          ...        ...        ...       ...       ...       ...   \n",
       "284802  172786.0 -11.881118  10.071785 -9.834783 -2.066656 -5.364473   \n",
       "284803  172787.0  -0.732789  -0.055080  2.035030 -0.738589  0.868229   \n",
       "284804  172788.0   1.919565  -0.301254 -3.249640 -0.557828  2.630515   \n",
       "284805  172788.0  -0.240440   0.530483  0.702510  0.689799 -0.377961   \n",
       "284806  172792.0  -0.533413  -0.189733  0.703337 -0.506271 -0.012546   \n",
       "\n",
       "              V6        V7        V8        V9  ...       V21       V22  \\\n",
       "0       0.462388  0.239599  0.098698  0.363787  ... -0.018307  0.277838   \n",
       "1      -0.082361 -0.078803  0.085102 -0.255425  ... -0.225775 -0.638672   \n",
       "2       1.800499  0.791461  0.247676 -1.514654  ...  0.247998  0.771679   \n",
       "3       1.247203  0.237609  0.377436 -1.387024  ... -0.108300  0.005274   \n",
       "4       0.095921  0.592941 -0.270533  0.817739  ... -0.009431  0.798278   \n",
       "...          ...       ...       ...       ...  ...       ...       ...   \n",
       "284802 -2.606837 -4.918215  7.305334  1.914428  ...  0.213454  0.111864   \n",
       "284803  1.058415  0.024330  0.294869  0.584800  ...  0.214205  0.924384   \n",
       "284804  3.031260 -0.296827  0.708417  0.432454  ...  0.232045  0.578229   \n",
       "284805  0.623708 -0.686180  0.679145  0.392087  ...  0.265245  0.800049   \n",
       "284806 -0.649617  1.577006 -0.414650  0.486180  ...  0.261057  0.643078   \n",
       "\n",
       "             V23       V24       V25       V26       V27       V28  Amount  \\\n",
       "0      -0.110474  0.066928  0.128539 -0.189115  0.133558 -0.021053  149.62   \n",
       "1       0.101288 -0.339846  0.167170  0.125895 -0.008983  0.014724    2.69   \n",
       "2       0.909412 -0.689281 -0.327642 -0.139097 -0.055353 -0.059752  378.66   \n",
       "3      -0.190321 -1.175575  0.647376 -0.221929  0.062723  0.061458  123.50   \n",
       "4      -0.137458  0.141267 -0.206010  0.502292  0.219422  0.215153   69.99   \n",
       "...          ...       ...       ...       ...       ...       ...     ...   \n",
       "284802  1.014480 -0.509348  1.436807  0.250034  0.943651  0.823731    0.77   \n",
       "284803  0.012463 -1.016226 -0.606624 -0.395255  0.068472 -0.053527   24.79   \n",
       "284804 -0.037501  0.640134  0.265745 -0.087371  0.004455 -0.026561   67.88   \n",
       "284805 -0.163298  0.123205 -0.569159  0.546668  0.108821  0.104533   10.00   \n",
       "284806  0.376777  0.008797 -0.473649 -0.818267 -0.002415  0.013649  217.00   \n",
       "\n",
       "        Class  \n",
       "0           0  \n",
       "1           0  \n",
       "2           0  \n",
       "3           0  \n",
       "4           0  \n",
       "...       ...  \n",
       "284802      0  \n",
       "284803      0  \n",
       "284804      0  \n",
       "284805      0  \n",
       "284806      0  \n",
       "\n",
       "[284807 rows x 31 columns]"
      ],
      "text/html": [
       "<div>\n",
       "<style scoped>\n",
       "    .dataframe tbody tr th:only-of-type {\n",
       "        vertical-align: middle;\n",
       "    }\n",
       "\n",
       "    .dataframe tbody tr th {\n",
       "        vertical-align: top;\n",
       "    }\n",
       "\n",
       "    .dataframe thead th {\n",
       "        text-align: right;\n",
       "    }\n",
       "</style>\n",
       "<table border=\"1\" class=\"dataframe\">\n",
       "  <thead>\n",
       "    <tr style=\"text-align: right;\">\n",
       "      <th></th>\n",
       "      <th>Time</th>\n",
       "      <th>V1</th>\n",
       "      <th>V2</th>\n",
       "      <th>V3</th>\n",
       "      <th>V4</th>\n",
       "      <th>V5</th>\n",
       "      <th>V6</th>\n",
       "      <th>V7</th>\n",
       "      <th>V8</th>\n",
       "      <th>V9</th>\n",
       "      <th>...</th>\n",
       "      <th>V21</th>\n",
       "      <th>V22</th>\n",
       "      <th>V23</th>\n",
       "      <th>V24</th>\n",
       "      <th>V25</th>\n",
       "      <th>V26</th>\n",
       "      <th>V27</th>\n",
       "      <th>V28</th>\n",
       "      <th>Amount</th>\n",
       "      <th>Class</th>\n",
       "    </tr>\n",
       "  </thead>\n",
       "  <tbody>\n",
       "    <tr>\n",
       "      <th>0</th>\n",
       "      <td>0.0</td>\n",
       "      <td>-1.359807</td>\n",
       "      <td>-0.072781</td>\n",
       "      <td>2.536347</td>\n",
       "      <td>1.378155</td>\n",
       "      <td>-0.338321</td>\n",
       "      <td>0.462388</td>\n",
       "      <td>0.239599</td>\n",
       "      <td>0.098698</td>\n",
       "      <td>0.363787</td>\n",
       "      <td>...</td>\n",
       "      <td>-0.018307</td>\n",
       "      <td>0.277838</td>\n",
       "      <td>-0.110474</td>\n",
       "      <td>0.066928</td>\n",
       "      <td>0.128539</td>\n",
       "      <td>-0.189115</td>\n",
       "      <td>0.133558</td>\n",
       "      <td>-0.021053</td>\n",
       "      <td>149.62</td>\n",
       "      <td>0</td>\n",
       "    </tr>\n",
       "    <tr>\n",
       "      <th>1</th>\n",
       "      <td>0.0</td>\n",
       "      <td>1.191857</td>\n",
       "      <td>0.266151</td>\n",
       "      <td>0.166480</td>\n",
       "      <td>0.448154</td>\n",
       "      <td>0.060018</td>\n",
       "      <td>-0.082361</td>\n",
       "      <td>-0.078803</td>\n",
       "      <td>0.085102</td>\n",
       "      <td>-0.255425</td>\n",
       "      <td>...</td>\n",
       "      <td>-0.225775</td>\n",
       "      <td>-0.638672</td>\n",
       "      <td>0.101288</td>\n",
       "      <td>-0.339846</td>\n",
       "      <td>0.167170</td>\n",
       "      <td>0.125895</td>\n",
       "      <td>-0.008983</td>\n",
       "      <td>0.014724</td>\n",
       "      <td>2.69</td>\n",
       "      <td>0</td>\n",
       "    </tr>\n",
       "    <tr>\n",
       "      <th>2</th>\n",
       "      <td>1.0</td>\n",
       "      <td>-1.358354</td>\n",
       "      <td>-1.340163</td>\n",
       "      <td>1.773209</td>\n",
       "      <td>0.379780</td>\n",
       "      <td>-0.503198</td>\n",
       "      <td>1.800499</td>\n",
       "      <td>0.791461</td>\n",
       "      <td>0.247676</td>\n",
       "      <td>-1.514654</td>\n",
       "      <td>...</td>\n",
       "      <td>0.247998</td>\n",
       "      <td>0.771679</td>\n",
       "      <td>0.909412</td>\n",
       "      <td>-0.689281</td>\n",
       "      <td>-0.327642</td>\n",
       "      <td>-0.139097</td>\n",
       "      <td>-0.055353</td>\n",
       "      <td>-0.059752</td>\n",
       "      <td>378.66</td>\n",
       "      <td>0</td>\n",
       "    </tr>\n",
       "    <tr>\n",
       "      <th>3</th>\n",
       "      <td>1.0</td>\n",
       "      <td>-0.966272</td>\n",
       "      <td>-0.185226</td>\n",
       "      <td>1.792993</td>\n",
       "      <td>-0.863291</td>\n",
       "      <td>-0.010309</td>\n",
       "      <td>1.247203</td>\n",
       "      <td>0.237609</td>\n",
       "      <td>0.377436</td>\n",
       "      <td>-1.387024</td>\n",
       "      <td>...</td>\n",
       "      <td>-0.108300</td>\n",
       "      <td>0.005274</td>\n",
       "      <td>-0.190321</td>\n",
       "      <td>-1.175575</td>\n",
       "      <td>0.647376</td>\n",
       "      <td>-0.221929</td>\n",
       "      <td>0.062723</td>\n",
       "      <td>0.061458</td>\n",
       "      <td>123.50</td>\n",
       "      <td>0</td>\n",
       "    </tr>\n",
       "    <tr>\n",
       "      <th>4</th>\n",
       "      <td>2.0</td>\n",
       "      <td>-1.158233</td>\n",
       "      <td>0.877737</td>\n",
       "      <td>1.548718</td>\n",
       "      <td>0.403034</td>\n",
       "      <td>-0.407193</td>\n",
       "      <td>0.095921</td>\n",
       "      <td>0.592941</td>\n",
       "      <td>-0.270533</td>\n",
       "      <td>0.817739</td>\n",
       "      <td>...</td>\n",
       "      <td>-0.009431</td>\n",
       "      <td>0.798278</td>\n",
       "      <td>-0.137458</td>\n",
       "      <td>0.141267</td>\n",
       "      <td>-0.206010</td>\n",
       "      <td>0.502292</td>\n",
       "      <td>0.219422</td>\n",
       "      <td>0.215153</td>\n",
       "      <td>69.99</td>\n",
       "      <td>0</td>\n",
       "    </tr>\n",
       "    <tr>\n",
       "      <th>...</th>\n",
       "      <td>...</td>\n",
       "      <td>...</td>\n",
       "      <td>...</td>\n",
       "      <td>...</td>\n",
       "      <td>...</td>\n",
       "      <td>...</td>\n",
       "      <td>...</td>\n",
       "      <td>...</td>\n",
       "      <td>...</td>\n",
       "      <td>...</td>\n",
       "      <td>...</td>\n",
       "      <td>...</td>\n",
       "      <td>...</td>\n",
       "      <td>...</td>\n",
       "      <td>...</td>\n",
       "      <td>...</td>\n",
       "      <td>...</td>\n",
       "      <td>...</td>\n",
       "      <td>...</td>\n",
       "      <td>...</td>\n",
       "      <td>...</td>\n",
       "    </tr>\n",
       "    <tr>\n",
       "      <th>284802</th>\n",
       "      <td>172786.0</td>\n",
       "      <td>-11.881118</td>\n",
       "      <td>10.071785</td>\n",
       "      <td>-9.834783</td>\n",
       "      <td>-2.066656</td>\n",
       "      <td>-5.364473</td>\n",
       "      <td>-2.606837</td>\n",
       "      <td>-4.918215</td>\n",
       "      <td>7.305334</td>\n",
       "      <td>1.914428</td>\n",
       "      <td>...</td>\n",
       "      <td>0.213454</td>\n",
       "      <td>0.111864</td>\n",
       "      <td>1.014480</td>\n",
       "      <td>-0.509348</td>\n",
       "      <td>1.436807</td>\n",
       "      <td>0.250034</td>\n",
       "      <td>0.943651</td>\n",
       "      <td>0.823731</td>\n",
       "      <td>0.77</td>\n",
       "      <td>0</td>\n",
       "    </tr>\n",
       "    <tr>\n",
       "      <th>284803</th>\n",
       "      <td>172787.0</td>\n",
       "      <td>-0.732789</td>\n",
       "      <td>-0.055080</td>\n",
       "      <td>2.035030</td>\n",
       "      <td>-0.738589</td>\n",
       "      <td>0.868229</td>\n",
       "      <td>1.058415</td>\n",
       "      <td>0.024330</td>\n",
       "      <td>0.294869</td>\n",
       "      <td>0.584800</td>\n",
       "      <td>...</td>\n",
       "      <td>0.214205</td>\n",
       "      <td>0.924384</td>\n",
       "      <td>0.012463</td>\n",
       "      <td>-1.016226</td>\n",
       "      <td>-0.606624</td>\n",
       "      <td>-0.395255</td>\n",
       "      <td>0.068472</td>\n",
       "      <td>-0.053527</td>\n",
       "      <td>24.79</td>\n",
       "      <td>0</td>\n",
       "    </tr>\n",
       "    <tr>\n",
       "      <th>284804</th>\n",
       "      <td>172788.0</td>\n",
       "      <td>1.919565</td>\n",
       "      <td>-0.301254</td>\n",
       "      <td>-3.249640</td>\n",
       "      <td>-0.557828</td>\n",
       "      <td>2.630515</td>\n",
       "      <td>3.031260</td>\n",
       "      <td>-0.296827</td>\n",
       "      <td>0.708417</td>\n",
       "      <td>0.432454</td>\n",
       "      <td>...</td>\n",
       "      <td>0.232045</td>\n",
       "      <td>0.578229</td>\n",
       "      <td>-0.037501</td>\n",
       "      <td>0.640134</td>\n",
       "      <td>0.265745</td>\n",
       "      <td>-0.087371</td>\n",
       "      <td>0.004455</td>\n",
       "      <td>-0.026561</td>\n",
       "      <td>67.88</td>\n",
       "      <td>0</td>\n",
       "    </tr>\n",
       "    <tr>\n",
       "      <th>284805</th>\n",
       "      <td>172788.0</td>\n",
       "      <td>-0.240440</td>\n",
       "      <td>0.530483</td>\n",
       "      <td>0.702510</td>\n",
       "      <td>0.689799</td>\n",
       "      <td>-0.377961</td>\n",
       "      <td>0.623708</td>\n",
       "      <td>-0.686180</td>\n",
       "      <td>0.679145</td>\n",
       "      <td>0.392087</td>\n",
       "      <td>...</td>\n",
       "      <td>0.265245</td>\n",
       "      <td>0.800049</td>\n",
       "      <td>-0.163298</td>\n",
       "      <td>0.123205</td>\n",
       "      <td>-0.569159</td>\n",
       "      <td>0.546668</td>\n",
       "      <td>0.108821</td>\n",
       "      <td>0.104533</td>\n",
       "      <td>10.00</td>\n",
       "      <td>0</td>\n",
       "    </tr>\n",
       "    <tr>\n",
       "      <th>284806</th>\n",
       "      <td>172792.0</td>\n",
       "      <td>-0.533413</td>\n",
       "      <td>-0.189733</td>\n",
       "      <td>0.703337</td>\n",
       "      <td>-0.506271</td>\n",
       "      <td>-0.012546</td>\n",
       "      <td>-0.649617</td>\n",
       "      <td>1.577006</td>\n",
       "      <td>-0.414650</td>\n",
       "      <td>0.486180</td>\n",
       "      <td>...</td>\n",
       "      <td>0.261057</td>\n",
       "      <td>0.643078</td>\n",
       "      <td>0.376777</td>\n",
       "      <td>0.008797</td>\n",
       "      <td>-0.473649</td>\n",
       "      <td>-0.818267</td>\n",
       "      <td>-0.002415</td>\n",
       "      <td>0.013649</td>\n",
       "      <td>217.00</td>\n",
       "      <td>0</td>\n",
       "    </tr>\n",
       "  </tbody>\n",
       "</table>\n",
       "<p>284807 rows × 31 columns</p>\n",
       "</div>"
      ]
     },
     "execution_count": 11,
     "metadata": {},
     "output_type": "execute_result"
    }
   ],
   "execution_count": 11
  },
  {
   "cell_type": "markdown",
   "id": "f210afbb-e8a9-48d3-a799-524da0b1bb63",
   "metadata": {},
   "source": [
    "# Step 3: Explore the Datsaset"
   ]
  },
  {
   "cell_type": "code",
   "id": "471b2268-b0ca-4413-9a85-df14f690ce84",
   "metadata": {
    "ExecuteTime": {
     "end_time": "2025-09-25T17:53:44.606843Z",
     "start_time": "2025-09-25T17:53:44.599794Z"
    }
   },
   "source": [
    "print(data.shape) # shape of the dataset"
   ],
   "outputs": [
    {
     "name": "stdout",
     "output_type": "stream",
     "text": [
      "(284807, 31)\n"
     ]
    }
   ],
   "execution_count": 12
  },
  {
   "cell_type": "code",
   "id": "f303b71f-b0a7-42fa-9cd3-634d5f221292",
   "metadata": {
    "ExecuteTime": {
     "end_time": "2025-09-25T17:53:44.919356Z",
     "start_time": "2025-09-25T17:53:44.852615Z"
    }
   },
   "source": [
    "#let's take a look of dataset\n",
    "print(data.head)"
   ],
   "outputs": [
    {
     "name": "stdout",
     "output_type": "stream",
     "text": [
      "<bound method NDFrame.head of             Time         V1         V2        V3        V4        V5  \\\n",
      "0            0.0  -1.359807  -0.072781  2.536347  1.378155 -0.338321   \n",
      "1            0.0   1.191857   0.266151  0.166480  0.448154  0.060018   \n",
      "2            1.0  -1.358354  -1.340163  1.773209  0.379780 -0.503198   \n",
      "3            1.0  -0.966272  -0.185226  1.792993 -0.863291 -0.010309   \n",
      "4            2.0  -1.158233   0.877737  1.548718  0.403034 -0.407193   \n",
      "...          ...        ...        ...       ...       ...       ...   \n",
      "284802  172786.0 -11.881118  10.071785 -9.834783 -2.066656 -5.364473   \n",
      "284803  172787.0  -0.732789  -0.055080  2.035030 -0.738589  0.868229   \n",
      "284804  172788.0   1.919565  -0.301254 -3.249640 -0.557828  2.630515   \n",
      "284805  172788.0  -0.240440   0.530483  0.702510  0.689799 -0.377961   \n",
      "284806  172792.0  -0.533413  -0.189733  0.703337 -0.506271 -0.012546   \n",
      "\n",
      "              V6        V7        V8        V9  ...       V21       V22  \\\n",
      "0       0.462388  0.239599  0.098698  0.363787  ... -0.018307  0.277838   \n",
      "1      -0.082361 -0.078803  0.085102 -0.255425  ... -0.225775 -0.638672   \n",
      "2       1.800499  0.791461  0.247676 -1.514654  ...  0.247998  0.771679   \n",
      "3       1.247203  0.237609  0.377436 -1.387024  ... -0.108300  0.005274   \n",
      "4       0.095921  0.592941 -0.270533  0.817739  ... -0.009431  0.798278   \n",
      "...          ...       ...       ...       ...  ...       ...       ...   \n",
      "284802 -2.606837 -4.918215  7.305334  1.914428  ...  0.213454  0.111864   \n",
      "284803  1.058415  0.024330  0.294869  0.584800  ...  0.214205  0.924384   \n",
      "284804  3.031260 -0.296827  0.708417  0.432454  ...  0.232045  0.578229   \n",
      "284805  0.623708 -0.686180  0.679145  0.392087  ...  0.265245  0.800049   \n",
      "284806 -0.649617  1.577006 -0.414650  0.486180  ...  0.261057  0.643078   \n",
      "\n",
      "             V23       V24       V25       V26       V27       V28  Amount  \\\n",
      "0      -0.110474  0.066928  0.128539 -0.189115  0.133558 -0.021053  149.62   \n",
      "1       0.101288 -0.339846  0.167170  0.125895 -0.008983  0.014724    2.69   \n",
      "2       0.909412 -0.689281 -0.327642 -0.139097 -0.055353 -0.059752  378.66   \n",
      "3      -0.190321 -1.175575  0.647376 -0.221929  0.062723  0.061458  123.50   \n",
      "4      -0.137458  0.141267 -0.206010  0.502292  0.219422  0.215153   69.99   \n",
      "...          ...       ...       ...       ...       ...       ...     ...   \n",
      "284802  1.014480 -0.509348  1.436807  0.250034  0.943651  0.823731    0.77   \n",
      "284803  0.012463 -1.016226 -0.606624 -0.395255  0.068472 -0.053527   24.79   \n",
      "284804 -0.037501  0.640134  0.265745 -0.087371  0.004455 -0.026561   67.88   \n",
      "284805 -0.163298  0.123205 -0.569159  0.546668  0.108821  0.104533   10.00   \n",
      "284806  0.376777  0.008797 -0.473649 -0.818267 -0.002415  0.013649  217.00   \n",
      "\n",
      "        Class  \n",
      "0           0  \n",
      "1           0  \n",
      "2           0  \n",
      "3           0  \n",
      "4           0  \n",
      "...       ...  \n",
      "284802      0  \n",
      "284803      0  \n",
      "284804      0  \n",
      "284805      0  \n",
      "284806      0  \n",
      "\n",
      "[284807 rows x 31 columns]>\n"
     ]
    }
   ],
   "execution_count": 13
  },
  {
   "cell_type": "code",
   "id": "32c381a4-3940-4a45-b9bf-a2d998b5bceb",
   "metadata": {
    "ExecuteTime": {
     "end_time": "2025-09-25T17:53:45.529378Z",
     "start_time": "2025-09-25T17:53:45.455950Z"
    }
   },
   "source": [
    "#following are the datatypes involved in the dataset\n",
    "print(data.dtypes)"
   ],
   "outputs": [
    {
     "name": "stdout",
     "output_type": "stream",
     "text": [
      "Time      float64\n",
      "V1        float64\n",
      "V2        float64\n",
      "V3        float64\n",
      "V4        float64\n",
      "V5        float64\n",
      "V6        float64\n",
      "V7        float64\n",
      "V8        float64\n",
      "V9        float64\n",
      "V10       float64\n",
      "V11       float64\n",
      "V12       float64\n",
      "V13       float64\n",
      "V14       float64\n",
      "V15       float64\n",
      "V16       float64\n",
      "V17       float64\n",
      "V18       float64\n",
      "V19       float64\n",
      "V20       float64\n",
      "V21       float64\n",
      "V22       float64\n",
      "V23       float64\n",
      "V24       float64\n",
      "V25       float64\n",
      "V26       float64\n",
      "V27       float64\n",
      "V28       float64\n",
      "Amount    float64\n",
      "Class       int64\n",
      "dtype: object\n"
     ]
    }
   ],
   "execution_count": 14
  },
  {
   "cell_type": "code",
   "id": "13b22714-72d2-42b6-aaea-02e2d293ec07",
   "metadata": {
    "ExecuteTime": {
     "end_time": "2025-09-25T17:53:45.809149Z",
     "start_time": "2025-09-25T17:53:45.700888Z"
    }
   },
   "source": [
    "#checking for null values\n",
    "print(data.isnull().sum())"
   ],
   "outputs": [
    {
     "name": "stdout",
     "output_type": "stream",
     "text": [
      "Time      0\n",
      "V1        0\n",
      "V2        0\n",
      "V3        0\n",
      "V4        0\n",
      "V5        0\n",
      "V6        0\n",
      "V7        0\n",
      "V8        0\n",
      "V9        0\n",
      "V10       0\n",
      "V11       0\n",
      "V12       0\n",
      "V13       0\n",
      "V14       0\n",
      "V15       0\n",
      "V16       0\n",
      "V17       0\n",
      "V18       0\n",
      "V19       0\n",
      "V20       0\n",
      "V21       0\n",
      "V22       0\n",
      "V23       0\n",
      "V24       0\n",
      "V25       0\n",
      "V26       0\n",
      "V27       0\n",
      "V28       0\n",
      "Amount    0\n",
      "Class     0\n",
      "dtype: int64\n"
     ]
    }
   ],
   "execution_count": 15
  },
  {
   "metadata": {},
   "cell_type": "code",
   "outputs": [],
   "execution_count": null,
   "source": "",
   "id": "5d1fecdf57984350"
  },
  {
   "cell_type": "markdown",
   "id": "bbde5556-c03d-4e43-9f2a-7eff0124f086",
   "metadata": {},
   "source": [
    "# Step 4:Data Preprocessing"
   ]
  },
  {
   "cell_type": "code",
   "id": "1dcee015-09d7-4d07-987b-b608f6b21b01",
   "metadata": {
    "ExecuteTime": {
     "end_time": "2025-09-25T17:53:46.172617Z",
     "start_time": "2025-09-25T17:53:45.914017Z"
    }
   },
   "source": [
    "#Target Variable Check \n",
    "data['Class'].value_counts()"
   ],
   "outputs": [
    {
     "data": {
      "text/plain": [
       "Class\n",
       "0    284315\n",
       "1       492\n",
       "Name: count, dtype: int64"
      ]
     },
     "execution_count": 16,
     "metadata": {},
     "output_type": "execute_result"
    }
   ],
   "execution_count": 16
  },
  {
   "cell_type": "code",
   "id": "b760b675-a791-41a9-acbd-d7845dc390ea",
   "metadata": {
    "ExecuteTime": {
     "end_time": "2025-09-25T17:53:46.628289Z",
     "start_time": "2025-09-25T17:53:46.404604Z"
    }
   },
   "source": [
    "#feature Scaling \n",
    "scaler = StandardScaler()\n",
    "\n",
    "data['norm_Time'] = scaler.fit_transform(data['Time'].values.reshape(-1,1))\n",
    "data['norm_Amount'] = scaler.fit_transform(data['Amount'].values.reshape(-1,1))\n",
    "\n",
    "print(\"New Time after scaling\\n\", data['norm_Time'])\n",
    "print(\"\\nNew Amount after scaling\\n\", data['norm_Amount'])"
   ],
   "outputs": [
    {
     "name": "stdout",
     "output_type": "stream",
     "text": [
      "New Time after scaling\n",
      " 0        -1.996583\n",
      "1        -1.996583\n",
      "2        -1.996562\n",
      "3        -1.996562\n",
      "4        -1.996541\n",
      "            ...   \n",
      "284802    1.641931\n",
      "284803    1.641952\n",
      "284804    1.641974\n",
      "284805    1.641974\n",
      "284806    1.642058\n",
      "Name: norm_Time, Length: 284807, dtype: float64\n",
      "\n",
      "New Amount after scaling\n",
      " 0         0.244964\n",
      "1        -0.342475\n",
      "2         1.160686\n",
      "3         0.140534\n",
      "4        -0.073403\n",
      "            ...   \n",
      "284802   -0.350151\n",
      "284803   -0.254117\n",
      "284804   -0.081839\n",
      "284805   -0.313249\n",
      "284806    0.514355\n",
      "Name: norm_Amount, Length: 284807, dtype: float64\n"
     ]
    }
   ],
   "execution_count": 17
  },
  {
   "cell_type": "code",
   "id": "5e56b5bd-5a55-41a3-9d3b-0a040ec88d8f",
   "metadata": {
    "ExecuteTime": {
     "end_time": "2025-09-25T17:53:46.927543Z",
     "start_time": "2025-09-25T17:53:46.803693Z"
    }
   },
   "source": [
    "#Drop old columns of time and Amount \n",
    "data = data.drop(['Time', 'Amount'], axis=1)"
   ],
   "outputs": [],
   "execution_count": 18
  },
  {
   "cell_type": "markdown",
   "id": "db4cb95c-f219-4e3a-929c-e88e370eacae",
   "metadata": {},
   "source": [
    "# Step 5: Exploratory Data Analysis (EDA)"
   ]
  },
  {
   "cell_type": "code",
   "id": "18723575-d051-4721-8f59-647172ddaa46",
   "metadata": {
    "ExecuteTime": {
     "end_time": "2025-09-25T17:53:50.207423Z",
     "start_time": "2025-09-25T17:53:46.996130Z"
    }
   },
   "source": [
    "#Target Variable Distribution\n",
    "sns.countplot(x='Class', data = data) # Fraud = 0 & Non-Fraud =1 \n",
    "plt.title(\"Fraud vs Non-Fraud Distribution\")\n",
    "plt.show()"
   ],
   "outputs": [
    {
     "data": {
      "text/plain": [
       "<Figure size 640x480 with 1 Axes>"
      ],
      "image/png": "[encoded data removed]"
     },
     "metadata": {},
     "output_type": "display_data"
    }
   ],
   "execution_count": 19
  },
  {
   "cell_type": "code",
   "id": "2de14a21-0ed7-4621-85e7-e916a9738a9d",
   "metadata": {
    "ExecuteTime": {
     "end_time": "2025-09-25T17:53:51.551254Z",
     "start_time": "2025-09-25T17:53:50.262853Z"
    }
   },
   "source": [
    "#Amount Analysis \n",
    "plt.figure(figsize=(10,6))\n",
    "sns.histplot(data[data['Class']==0]['norm_Amount'], bins=50, color='blue', label='Non-Fraud', alpha=0.6)\n",
    "sns.histplot(data[data['Class']==1]['norm_Amount'], bins=50, color='red', label='Fraud', alpha=0.6)\n",
    "plt.legend()\n",
    "plt.title(\"Transaction Amount Distribution\")\n",
    "plt.show()"
   ],
   "outputs": [
    {
     "data": {
      "text/plain": [
       "<Figure size 1000x600 with 1 Axes>"
      ],
      "image/png": "[encoded data removed]"
     },
     "metadata": {},
     "output_type": "display_data"
    }
   ],
   "execution_count": 20
  },
  {
   "cell_type": "code",
   "id": "dd9fd50c-52d3-4e59-9635-b40194be8916",
   "metadata": {
    "ExecuteTime": {
     "end_time": "2025-09-25T17:53:52.870305Z",
     "start_time": "2025-09-25T17:53:51.585651Z"
    }
   },
   "source": [
    "#Time Pattern\n",
    "plt.figure(figsize=(10,6))\n",
    "sns.histplot(data[data['Class']==0]['norm_Time'], bins=100, color='blue', label='Non-Fraud', alpha=0.6)\n",
    "sns.histplot(data[data['Class']==1]['norm_Time'], bins=100, color='red', label='Fraud', alpha=0.6)\n",
    "plt.legend()\n",
    "plt.title(\"Fraud vs Non-Fraud by Time\")\n",
    "plt.show()\n"
   ],
   "outputs": [
    {
     "data": {
      "text/plain": [
       "<Figure size 1000x600 with 1 Axes>"
      ],
      "image/png": "[encoded data removed]"
     },
     "metadata": {},
     "output_type": "display_data"
    }
   ],
   "execution_count": 21
  },
  {
   "cell_type": "code",
   "id": "ef78fc0b-940e-48d8-ad74-79a5672b872d",
   "metadata": {
    "ExecuteTime": {
     "end_time": "2025-09-25T17:53:56.224878Z",
     "start_time": "2025-09-25T17:53:53.107471Z"
    }
   },
   "source": [
    "#Feature Distibution\n",
    "plt.figure(figsize=(10,6))\n",
    "sns.kdeplot(data[data['Class']==0]['V1'], label=\"Non-Fraud\")\n",
    "sns.kdeplot(data[data['Class']==1]['V1'], label=\"Fraud\")\n",
    "plt.title(\"Distribution of V1 for Fraud vs Non-Fraud\")\n",
    "plt.legend()\n",
    "plt.show()"
   ],
   "outputs": [
    {
     "data": {
      "text/plain": [
       "<Figure size 1000x600 with 1 Axes>"
      ],
      "image/png": "[encoded data removed]"
     },
     "metadata": {},
     "output_type": "display_data"
    }
   ],
   "execution_count": 22
  },
  {
   "cell_type": "code",
   "id": "6dd61b45-ac38-4b20-981b-2f0ddf9a9d27",
   "metadata": {
    "ExecuteTime": {
     "end_time": "2025-09-25T17:53:58.651241Z",
     "start_time": "2025-09-25T17:53:56.292805Z"
    }
   },
   "source": [
    "# Correlation Heatmap\n",
    "plt.figure(figsize=(12,8))\n",
    "sns.heatmap(data.corr(), cmap=\"coolwarm\", annot=False, cbar=True)\n",
    "plt.title(\"Correlation Heatmap\")\n",
    "plt.show()"
   ],
   "outputs": [
    {
     "data": {
      "text/plain": [
       "<Figure size 1200x800 with 2 Axes>"
      ],
      "image/png": "[encoded data removed]"
     },
     "metadata": {},
     "output_type": "display_data"
    }
   ],
   "execution_count": 23
  },
  {
   "cell_type": "code",
   "id": "bc337d28-d57b-4057-bd44-1f06ae01208a",
   "metadata": {
    "ExecuteTime": {
     "end_time": "2025-09-25T17:53:58.895204Z",
     "start_time": "2025-09-25T17:53:58.772068Z"
    }
   },
   "source": [
    "#Fraud Case Insights\n",
    "fraud = data[data['Class']==1]\n",
    "nonfraud = data[data['Class']==0]\n",
    "\n",
    "print(\"Fraud mean values:\\n\", fraud.mean())\n",
    "print(\"\\nNon-Fraud mean values:\\n\", nonfraud.mean())"
   ],
   "outputs": [
    {
     "name": "stdout",
     "output_type": "stream",
     "text": [
      "Fraud mean values:\n",
      " V1            -4.771948\n",
      "V2             3.623778\n",
      "V3            -7.033281\n",
      "V4             4.542029\n",
      "V5            -3.151225\n",
      "V6            -1.397737\n",
      "V7            -5.568731\n",
      "V8             0.570636\n",
      "V9            -2.581123\n",
      "V10           -5.676883\n",
      "V11            3.800173\n",
      "V12           -6.259393\n",
      "V13           -0.109334\n",
      "V14           -6.971723\n",
      "V15           -0.092929\n",
      "V16           -4.139946\n",
      "V17           -6.665836\n",
      "V18           -2.246308\n",
      "V19            0.680659\n",
      "V20            0.372319\n",
      "V21            0.713588\n",
      "V22            0.014049\n",
      "V23           -0.040308\n",
      "V24           -0.105130\n",
      "V25            0.041449\n",
      "V26            0.051648\n",
      "V27            0.170575\n",
      "V28            0.075667\n",
      "Class          1.000000\n",
      "norm_Time     -0.296223\n",
      "norm_Amount    0.135382\n",
      "dtype: float64\n",
      "\n",
      "Non-Fraud mean values:\n",
      " V1             0.008258\n",
      "V2            -0.006271\n",
      "V3             0.012171\n",
      "V4            -0.007860\n",
      "V5             0.005453\n",
      "V6             0.002419\n",
      "V7             0.009637\n",
      "V8            -0.000987\n",
      "V9             0.004467\n",
      "V10            0.009824\n",
      "V11           -0.006576\n",
      "V12            0.010832\n",
      "V13            0.000189\n",
      "V14            0.012064\n",
      "V15            0.000161\n",
      "V16            0.007164\n",
      "V17            0.011535\n",
      "V18            0.003887\n",
      "V19           -0.001178\n",
      "V20           -0.000644\n",
      "V21           -0.001235\n",
      "V22           -0.000024\n",
      "V23            0.000070\n",
      "V24            0.000182\n",
      "V25           -0.000072\n",
      "V26           -0.000089\n",
      "V27           -0.000295\n",
      "V28           -0.000131\n",
      "Class          0.000000\n",
      "norm_Time      0.000513\n",
      "norm_Amount   -0.000234\n",
      "dtype: float64\n"
     ]
    }
   ],
   "execution_count": 24
  },
  {
   "cell_type": "markdown",
   "id": "95c5781d-4bd0-4b0f-85ec-313f5a3e6fea",
   "metadata": {},
   "source": [
    "# Step 6: Splitting Dataset for training models"
   ]
  },
  {
   "cell_type": "code",
   "id": "671e4f57-5f0a-41db-b2fd-00342c18c856",
   "metadata": {
    "ExecuteTime": {
     "end_time": "2025-09-25T17:53:59.620133Z",
     "start_time": "2025-09-25T17:53:58.949974Z"
    }
   },
   "source": [
    "#Splitting Dataset \n",
    "X = data.drop('Class', axis=1)\n",
    "Y = data['Class']\n",
    "\n",
    "X_train, X_test, Y_train, Y_test = train_test_split(X, Y, test_size=0.2, stratify=Y, random_state=42)"
   ],
   "outputs": [],
   "execution_count": 25
  },
  {
   "cell_type": "markdown",
   "id": "ff7fa28a-a857-4198-9300-ac21d82ea184",
   "metadata": {},
   "source": [
    "# Step 7: Training of Unsupervised Learning "
   ]
  },
  {
   "cell_type": "markdown",
   "id": "1aec962b-6764-437c-8616-d0d9828ee1b8",
   "metadata": {},
   "source": [
    "#### A) Anomaly Detection – Isolation Forest"
   ]
  },
  {
   "cell_type": "code",
   "id": "09fabebb-4834-4560-a191-6fb7bd45d9d4",
   "metadata": {
    "ExecuteTime": {
     "end_time": "2025-09-25T17:54:07.013548Z",
     "start_time": "2025-09-25T17:53:59.694879Z"
    }
   },
   "source": [
    "# Train Isolation Forest\n",
    "iso = IsolationForest(n_estimators=100, contamination=0.001, random_state=42)\n",
    "Y_pred_iso = iso.fit_predict(X_train)\n",
    "\n",
    "# Convert predictions (-1 = anomaly, 1 = normal) to (1 = fraud, 0 = normal)\n",
    "Y_pred_iso = [1 if x == -1 else 0 for x in Y_pred_iso]\n",
    "\n",
    "# Evaluate on test set\n",
    "Y_test_pred = iso.predict(X_test)\n",
    "Y_test_pred = [1 if x == -1 else 0 for x in Y_test_pred]"
   ],
   "outputs": [],
   "execution_count": 26
  },
  {
   "cell_type": "markdown",
   "id": "b5cfa2b3-08f6-4db5-b21b-eacf5ca9c7e9",
   "metadata": {},
   "source": [
    "#### B) Anomaly Detection – AutoEncoder"
   ]
  },
  {
   "cell_type": "code",
   "id": "89243560-94d1-46dc-9124-f0b6cd6c16d3",
   "metadata": {
    "ExecuteTime": {
     "end_time": "2025-09-25T17:56:08.725906Z",
     "start_time": "2025-09-25T17:54:07.112649Z"
    }
   },
   "source": [
    "# Build AutoEncoder\n",
    "input_dim = X_train.shape[1]\n",
    "input_layer = Input(shape=(input_dim,))\n",
    "encoder = Dense(16, activation=\"relu\")(input_layer)\n",
    "encoder = Dense(8, activation=\"relu\")(encoder)\n",
    "decoder = Dense(16, activation=\"relu\")(encoder)\n",
    "decoder = Dense(input_dim, activation=\"linear\")(decoder)\n",
    "\n",
    "autoencoder = Model(inputs=input_layer, outputs=decoder)\n",
    "autoencoder.compile(optimizer=Adam(learning_rate=0.001), loss=\"mse\")\n",
    "\n",
    "# Train AutoEncoder on normal transactions only (class=0)\n",
    "X_train_normal = X_train[Y_train == 0]\n",
    "autoencoder.fit(X_train_normal, X_train_normal,\n",
    "                epochs=10,\n",
    "                batch_size=64,\n",
    "                shuffle=True,\n",
    "                validation_split=0.2)\n",
    "\n",
    "# Get reconstruction errors\n",
    "reconstructions = autoencoder.predict(X_test)\n",
    "mse = np.mean(np.power(X_test - reconstructions, 2), axis=1)\n",
    "\n",
    "# Set threshold\n",
    "threshold = np.percentile(mse, 95)\n",
    "\n",
    "# Predict\n",
    "Y_pred_auto = [1 if e > threshold else 0 for e in mse]"
   ],
   "outputs": [
    {
     "name": "stdout",
     "output_type": "stream",
     "text": [
      "Epoch 1/10\n",
      "\u001B[1m2844/2844\u001B[0m \u001B[32m━━━━━━━━━━━━━━━━━━━━\u001B[0m\u001B[37m\u001B[0m \u001B[1m21s\u001B[0m 4ms/step - loss: 0.5462 - val_loss: 0.3997\n",
      "Epoch 2/10\n",
      "\u001B[1m2844/2844\u001B[0m \u001B[32m━━━━━━━━━━━━━━━━━━━━\u001B[0m\u001B[37m\u001B[0m \u001B[1m10s\u001B[0m 3ms/step - loss: 0.3599 - val_loss: 0.3324\n",
      "Epoch 3/10\n",
      "\u001B[1m2844/2844\u001B[0m \u001B[32m━━━━━━━━━━━━━━━━━━━━\u001B[0m\u001B[37m\u001B[0m \u001B[1m11s\u001B[0m 3ms/step - loss: 0.3240 - val_loss: 0.3170\n",
      "Epoch 4/10\n",
      "\u001B[1m2844/2844\u001B[0m \u001B[32m━━━━━━━━━━━━━━━━━━━━\u001B[0m\u001B[37m\u001B[0m \u001B[1m10s\u001B[0m 3ms/step - loss: 0.3127 - val_loss: 0.3104\n",
      "Epoch 5/10\n",
      "\u001B[1m2844/2844\u001B[0m \u001B[32m━━━━━━━━━━━━━━━━━━━━\u001B[0m\u001B[37m\u001B[0m \u001B[1m9s\u001B[0m 3ms/step - loss: 0.3084 - val_loss: 0.3065\n",
      "Epoch 6/10\n",
      "\u001B[1m2844/2844\u001B[0m \u001B[32m━━━━━━━━━━━━━━━━━━━━\u001B[0m\u001B[37m\u001B[0m \u001B[1m9s\u001B[0m 3ms/step - loss: 0.3046 - val_loss: 0.3031\n",
      "Epoch 7/10\n",
      "\u001B[1m2844/2844\u001B[0m \u001B[32m━━━━━━━━━━━━━━━━━━━━\u001B[0m\u001B[37m\u001B[0m \u001B[1m8s\u001B[0m 3ms/step - loss: 0.3010 - val_loss: 0.2995\n",
      "Epoch 8/10\n",
      "\u001B[1m2844/2844\u001B[0m \u001B[32m━━━━━━━━━━━━━━━━━━━━\u001B[0m\u001B[37m\u001B[0m \u001B[1m10s\u001B[0m 3ms/step - loss: 0.2987 - val_loss: 0.2962\n",
      "Epoch 9/10\n",
      "\u001B[1m2844/2844\u001B[0m \u001B[32m━━━━━━━━━━━━━━━━━━━━\u001B[0m\u001B[37m\u001B[0m \u001B[1m11s\u001B[0m 4ms/step - loss: 0.2962 - val_loss: 0.2971\n",
      "Epoch 10/10\n",
      "\u001B[1m2844/2844\u001B[0m \u001B[32m━━━━━━━━━━━━━━━━━━━━\u001B[0m\u001B[37m\u001B[0m \u001B[1m9s\u001B[0m 3ms/step - loss: 0.2930 - val_loss: 0.2897\n",
      "\u001B[1m1781/1781\u001B[0m \u001B[32m━━━━━━━━━━━━━━━━━━━━\u001B[0m\u001B[37m\u001B[0m \u001B[1m3s\u001B[0m 2ms/step\n"
     ]
    }
   ],
   "execution_count": 27
  },
  {
   "cell_type": "markdown",
   "id": "2175ee21-4887-4915-ac9d-28360cfcc9ff",
   "metadata": {},
   "source": [
    "# Step 8: Training Supervised Learning Models"
   ]
  },
  {
   "cell_type": "markdown",
   "id": "87a858f0-adef-43bf-90f2-c85f3b132ebf",
   "metadata": {},
   "source": [
    "#### A) Training Logistic Regression Model"
   ]
  },
  {
   "metadata": {
    "ExecuteTime": {
     "end_time": "2025-09-25T18:03:58.187413Z",
     "start_time": "2025-09-25T18:03:55.524713Z"
    }
   },
   "cell_type": "code",
   "source": [
    "# Training the baseline model Logistic Regression\n",
    "\n",
    "log_reg = LogisticRegression(class_weight='balanced', max_iter=1000, random_state=42)\n",
    "log_reg.fit(X_train, Y_train)\n",
    "\n",
    "Y_pred = log_reg.predict(X_test)\n",
    "Y_prob = log_reg.predict_proba(X_test)[:,1]"
   ],
   "id": "38432c2ba8211f74",
   "outputs": [],
   "execution_count": 34
  },
  {
   "cell_type": "markdown",
   "id": "14aeed9f-ab5c-4ee3-9dc0-8ba6af84bf3c",
   "metadata": {},
   "source": [
    "#### B) Training Random Forest Model"
   ]
  },
  {
   "cell_type": "code",
   "id": "27edde56-4d52-4846-8811-c6835c5305cc",
   "metadata": {
    "ExecuteTime": {
     "end_time": "2025-09-25T18:02:18.837168Z",
     "start_time": "2025-09-25T17:58:13.248173Z"
    }
   },
   "source": [
    "#Tree based models \n",
    "# Random Forest\n",
    "rf = RandomForestClassifier(class_weight='balanced', random_state=42, n_estimators=100)\n",
    "rf.fit(X_train, Y_train)\n",
    "\n",
    "Y_pred_rf = rf.predict(X_test)\n",
    "Y_prob_rf = rf.predict_proba(X_test)[:,1]\n",
    "\n",
    "print(\"ROC-AUC Score:\", roc_auc_score(Y_test, Y_prob_rf))"
   ],
   "outputs": [
    {
     "name": "stdout",
     "output_type": "stream",
     "text": [
      "ROC-AUC Score: 0.947833463013793\n"
     ]
    }
   ],
   "execution_count": 28
  },
  {
   "cell_type": "markdown",
   "id": "8682ac5c-c9ec-4830-b624-3fdf9dc6cf1b",
   "metadata": {},
   "source": [
    "#### C) Training XGBOOST Model"
   ]
  },
  {
   "cell_type": "code",
   "id": "3bf378ed-4b38-4d04-98e3-cbe9efbe9ae7",
   "metadata": {
    "ExecuteTime": {
     "end_time": "2025-09-25T18:02:26.237250Z",
     "start_time": "2025-09-25T18:02:19.017333Z"
    }
   },
   "source": [
    "#xgboost \n",
    "xgb = XGBClassifier(scale_pos_weight=(len(Y_train)-sum(Y_train))/sum(Y_train),\n",
    "                    use_label_encoder=False, eval_metric='logloss', random_state=42)\n",
    "xgb.fit(X_train, Y_train)\n",
    "\n",
    "y_pred_xgb = xgb.predict(X_test)\n",
    "y_prob_xgb = xgb.predict_proba(X_test)[:,1]\n",
    "\n",
    "print(\"ROC-AUC Score:\", roc_auc_score(Y_test, y_prob_xgb))"
   ],
   "outputs": [
    {
     "name": "stderr",
     "output_type": "stream",
     "text": [
      "C:\\Users\\hp\\PycharmProjects\\FraudDetection\\.venv\\Lib\\site-packages\\xgboost\\training.py:183: UserWarning: [23:32:21] WARNING: C:\\actions-runner\\_work\\xgboost\\xgboost\\src\\learner.cc:738: \n",
      "Parameters: { \"use_label_encoder\" } are not used.\n",
      "\n",
      "  bst.update(dtrain, iteration=i, fobj=obj)\n"
     ]
    },
    {
     "name": "stdout",
     "output_type": "stream",
     "text": [
      "ROC-AUC Score: 0.9652206338359767\n"
     ]
    }
   ],
   "execution_count": 29
  },
  {
   "cell_type": "markdown",
   "id": "d450019e-36fc-4562-aaa5-f943a07dcf35",
   "metadata": {},
   "source": [
    "# Step 9: Handle Class Imbalance"
   ]
  },
  {
   "cell_type": "markdown",
   "id": "77e951d5-543c-4103-b8d3-ed024b26fabf",
   "metadata": {},
   "source": [
    "#### A) Random Undersampling"
   ]
  },
  {
   "cell_type": "code",
   "id": "ab669ed6-f5fb-4501-9474-31fffab31df1",
   "metadata": {
    "ExecuteTime": {
     "end_time": "2025-09-25T18:02:27.202272Z",
     "start_time": "2025-09-25T18:02:26.298151Z"
    }
   },
   "source": [
    "rus = RandomUnderSampler(random_state=42)\n",
    "X_undersampled, Y_undersampled = rus.fit_resample(X_train, Y_train)\n",
    "\n",
    "print(\"Before undersampling:\", Y_train.value_counts())\n",
    "print(\"After undersampling:\", Y_undersampled.value_counts())\n",
    "\n",
    "# Train XGBoost on undersampled data\n",
    "xgb_under = XGBClassifier(\n",
    "    n_estimators=100,\n",
    "    learning_rate=0.1,\n",
    "    max_depth=5,\n",
    "    random_state=42,\n",
    "    use_label_encoder=False,\n",
    "    eval_metric=\"logloss\"\n",
    ")\n",
    "xgb_under.fit(X_undersampled, Y_undersampled)\n",
    "\n",
    "# Predictions on test set\n",
    "y_pred_xgb_under = xgb_under.predict(X_test)\n",
    "y_prob_xgb_under = xgb_under.predict_proba(X_test)[:,1]"
   ],
   "outputs": [
    {
     "name": "stdout",
     "output_type": "stream",
     "text": [
      "Before undersampling: Class\n",
      "0    227451\n",
      "1       394\n",
      "Name: count, dtype: int64\n",
      "After undersampling: Class\n",
      "0    394\n",
      "1    394\n",
      "Name: count, dtype: int64\n"
     ]
    },
    {
     "name": "stderr",
     "output_type": "stream",
     "text": [
      "C:\\Users\\hp\\PycharmProjects\\FraudDetection\\.venv\\Lib\\site-packages\\xgboost\\training.py:183: UserWarning: [23:32:26] WARNING: C:\\actions-runner\\_work\\xgboost\\xgboost\\src\\learner.cc:738: \n",
      "Parameters: { \"use_label_encoder\" } are not used.\n",
      "\n",
      "  bst.update(dtrain, iteration=i, fobj=obj)\n"
     ]
    }
   ],
   "execution_count": 30
  },
  {
   "cell_type": "markdown",
   "id": "26f835e6-bfe3-4d98-9831-8b1bda89e370",
   "metadata": {},
   "source": [
    "#### B) SMOTE (Synthetic Minority Oversampling) "
   ]
  },
  {
   "cell_type": "code",
   "id": "72d84bb4-3757-47ee-9a6a-ed6ac3a1d019",
   "metadata": {
    "ExecuteTime": {
     "end_time": "2025-09-25T18:03:22.997628Z",
     "start_time": "2025-09-25T18:02:27.378Z"
    }
   },
   "source": [
    "smote = SMOTE(random_state=42)\n",
    "X_smote, Y_smote = smote.fit_resample(X_train, Y_train)\n",
    "\n",
    "print(\"Before SMOTE:\", Y_train.value_counts())\n",
    "print(\"After SMOTE:\", Y_smote.value_counts())\n",
    "\n",
    "# Train XGBoost on SMOTE data\n",
    "xgb_smote = XGBClassifier(\n",
    "    n_estimators=100,\n",
    "    learning_rate=0.1,\n",
    "    max_depth=5,\n",
    "    random_state=42,\n",
    "    use_label_encoder=False,\n",
    "    eval_metric=\"logloss\"\n",
    ")\n",
    "xgb_smote.fit(X_smote,Y_smote)\n",
    "\n",
    "# Predictions\n",
    "y_pred_xgb_smote = xgb_smote.predict(X_test)\n",
    "y_prob_xgb_smote = xgb_smote.predict_proba(X_test)[:,1]"
   ],
   "outputs": [
    {
     "name": "stdout",
     "output_type": "stream",
     "text": [
      "Before SMOTE: Class\n",
      "0    227451\n",
      "1       394\n",
      "Name: count, dtype: int64\n",
      "After SMOTE: Class\n",
      "0    227451\n",
      "1    227451\n",
      "Name: count, dtype: int64\n"
     ]
    },
    {
     "name": "stderr",
     "output_type": "stream",
     "text": [
      "C:\\Users\\hp\\PycharmProjects\\FraudDetection\\.venv\\Lib\\site-packages\\xgboost\\training.py:183: UserWarning: [23:33:17] WARNING: C:\\actions-runner\\_work\\xgboost\\xgboost\\src\\learner.cc:738: \n",
      "Parameters: { \"use_label_encoder\" } are not used.\n",
      "\n",
      "  bst.update(dtrain, iteration=i, fobj=obj)\n"
     ]
    }
   ],
   "execution_count": 31
  },
  {
   "cell_type": "markdown",
   "id": "a0e8d06e-9597-4ecc-a746-c0b4540f66a3",
   "metadata": {},
   "source": [
    "#### C) Class Weights (No resampling)"
   ]
  },
  {
   "cell_type": "code",
   "id": "cdf974e9-efbd-47a3-a942-981c2324427f",
   "metadata": {
    "ExecuteTime": {
     "end_time": "2025-09-25T18:03:27.164811Z",
     "start_time": "2025-09-25T18:03:23.179357Z"
    }
   },
   "source": [
    "scale_pos_weight = int((Y_train == 0).sum() / (Y_train == 1).sum())\n",
    "\n",
    "xgb_weighted = XGBClassifier(\n",
    "    n_estimators=100,\n",
    "    learning_rate=0.1,\n",
    "    max_depth=5,\n",
    "    scale_pos_weight=scale_pos_weight,\n",
    "    random_state=42,\n",
    "    use_label_encoder=False,\n",
    "    eval_metric=\"logloss\"\n",
    ")\n",
    "\n",
    "xgb_weighted.fit(X_train, Y_train)\n",
    "Y_pred_xgb_weighted = xgb_weighted.predict(X_test)\n",
    "y_prob_xgb_weighted = xgb_weighted.predict_proba(X_test)[:,1]"
   ],
   "outputs": [
    {
     "name": "stderr",
     "output_type": "stream",
     "text": [
      "C:\\Users\\hp\\PycharmProjects\\FraudDetection\\.venv\\Lib\\site-packages\\xgboost\\training.py:183: UserWarning: [23:33:24] WARNING: C:\\actions-runner\\_work\\xgboost\\xgboost\\src\\learner.cc:738: \n",
      "Parameters: { \"use_label_encoder\" } are not used.\n",
      "\n",
      "  bst.update(dtrain, iteration=i, fobj=obj)\n"
     ]
    }
   ],
   "execution_count": 32
  },
  {
   "cell_type": "markdown",
   "id": "aaede789-b32e-42fc-85cd-f3a579b74446",
   "metadata": {},
   "source": [
    "# Step 10: Model Evaluation and Comparison"
   ]
  },
  {
   "cell_type": "code",
   "id": "822ace0d-ac78-460e-94b3-682f91f8d19b",
   "metadata": {
    "ExecuteTime": {
     "end_time": "2025-09-25T18:04:06.881121Z",
     "start_time": "2025-09-25T18:04:05.707412Z"
    }
   },
   "source": [
    "# Function to calculate metrics\n",
    "def get_scores(y_true, y_pred, y_prob=None, model_name=\"Model\"):\n",
    "    return {\n",
    "        \"Model\": model_name,\n",
    "        \"Accuracy\": accuracy_score(y_true, y_pred),\n",
    "        \"Precision (Fraud)\": precision_score(y_true, y_pred, pos_label=1, zero_division=0),\n",
    "        \"Recall (Fraud)\": recall_score(y_true, y_pred, pos_label=1, zero_division=0),\n",
    "        \"F1-Score (Fraud)\": f1_score(y_true, y_pred, pos_label=1, zero_division=0),\n",
    "        \"ROC-AUC\": roc_auc_score(y_true, y_prob if y_prob is not None else y_pred),\n",
    "        \"Avg Precision\": average_precision_score(y_true, y_prob if y_prob is not None else y_pred)\n",
    "    }\n",
    "\n",
    "# Collect all results\n",
    "results = []\n",
    "\n",
    "# --- Supervised Models ---\n",
    "results.append(get_scores(Y_test, Y_pred, Y_prob, \"Logistic Regression\"))\n",
    "results.append(get_scores(Y_test, Y_pred_rf, Y_prob_rf, \"Random Forest\"))\n",
    "results.append(get_scores(Y_test, y_pred_xgb, y_prob_xgb, \"XGBoost (Normal)\"))\n",
    "\n",
    "# --- Class Imbalance Techniques with XGBoost ---\n",
    "results.append(get_scores(Y_test, y_pred_xgb_under, y_prob_xgb_under, \"XGBoost + Undersampling\"))\n",
    "results.append(get_scores(Y_test, y_pred_xgb_smote, y_prob_xgb_smote, \"XGBoost + SMOTE\"))\n",
    "results.append(get_scores(Y_test, Y_pred_xgb_weighted, y_prob_xgb_weighted, \"XGBoost + Class Weights\"))\n",
    "\n",
    "# --- Anomaly Detection ---\n",
    "results.append(get_scores(Y_test, Y_test_pred, None, \"Isolation Forest\"))  # no probability\n",
    "results.append(get_scores(Y_test, Y_pred_auto, None, \"AutoEncoder\"))        # no probability\n",
    "\n",
    "# Convert to DataFrame\n",
    "df_results = pd.DataFrame(results)\n",
    "\n",
    "# Sort by ROC-AUC or Avg Precision\n",
    "df_results = df_results.sort_values(by=\"Avg Precision\", ascending=False)\n",
    "print(\"\\nSorted Results:\\n\", df_results)"
   ],
   "outputs": [
    {
     "name": "stdout",
     "output_type": "stream",
     "text": [
      "\n",
      "Sorted Results:\n",
      "                      Model  Accuracy  Precision (Fraud)  Recall (Fraud)  \\\n",
      "2         XGBoost (Normal)  0.999544           0.882979        0.846939   \n",
      "1            Random Forest  0.999491           0.960000        0.734694   \n",
      "5  XGBoost + Class Weights  0.998297           0.502994        0.857143   \n",
      "4          XGBoost + SMOTE  0.994944           0.239011        0.887755   \n",
      "0      Logistic Regression  0.975475           0.060852        0.918367   \n",
      "3  XGBoost + Undersampling  0.956287           0.034630        0.908163   \n",
      "6         Isolation Forest  0.997964           0.363636        0.244898   \n",
      "7              AutoEncoder  0.951389           0.031239        0.908163   \n",
      "\n",
      "   F1-Score (Fraud)   ROC-AUC  Avg Precision  \n",
      "2          0.864583  0.965221       0.875259  \n",
      "1          0.832370  0.947833       0.843454  \n",
      "5          0.633962  0.975975       0.839935  \n",
      "4          0.376623  0.978054       0.839700  \n",
      "0          0.114141  0.972167       0.718946  \n",
      "3          0.066717  0.973620       0.658051  \n",
      "6          0.292683  0.622080       0.090353  \n",
      "7          0.060400  0.929813       0.028528  \n"
     ]
    }
   ],
   "execution_count": 35
  },
  {
   "cell_type": "markdown",
   "id": "32136ef3-30cb-44a3-a8ff-5f05964e352b",
   "metadata": {},
   "source": [
    "##### From the evaluation of all models and techniques:\n",
    "\n",
    "##### XGBoost (Normal) achieved the best balance between Precision (0.88) and Recall (0.85) for fraud cases, resulting in the highest F1-score (0.86) and Average Precision (0.875).\n",
    "\n",
    "##### Random Forest also performed well in terms of precision but had slightly lower F1-score.\n",
    "\n",
    "##### XGBoost variants with SMOTE or Undersampling increased recall but suffered from very low precision, leading to a high number of false positives.\n",
    "\n",
    "##### Class Weights improved recall while maintaining moderate precision, but the F1-score was still lower than the normal XGBoost.\n",
    "\n",
    "##### Isolation Forest and AutoEncoder (unsupervised anomaly detection) performed poorly compared to supervised methods, especially in precision and F1-score.\n",
    "\n",
    "##### Conclusion: The final model chosen for deployment is XGBoost (Normal) due to its strong balance of precision and recall, high F1-score, and overall robust performance on the fraud detection task."
   ]
  },
  {
   "cell_type": "code",
   "id": "264c19f8-68a4-49e0-8774-9c483b86b063",
   "metadata": {
    "ExecuteTime": {
     "end_time": "2025-09-25T18:04:16.595597Z",
     "start_time": "2025-09-25T18:04:15.862462Z"
    }
   },
   "source": [
    "# save the final model \n",
    "joblib.dump(xgb, \"xgboost_fraud_model.pkl\")\n",
    "\n",
    "# Load later\n",
    "model = joblib.load(\"xgboost_fraud_model.pkl\")"
   ],
   "outputs": [],
   "execution_count": 36
  },
  {
   "cell_type": "markdown",
   "id": "2d68729a-88a5-42f2-ae56-2ee67a2bf688",
   "metadata": {},
   "source": [
    "# Step 11: Final Pipeline and save"
   ]
  },
  {
   "cell_type": "code",
   "id": "5ab39edd-2d58-4f25-8b63-9e1a72d058a8",
   "metadata": {
    "ExecuteTime": {
     "end_time": "2025-09-25T18:21:55.534120Z",
     "start_time": "2025-09-25T18:21:49.854515Z"
    }
   },
   "source": [
    "numeric_features = X_train.columns \n",
    "\n",
    "# Build pipeline\n",
    "final_pipeline = Pipeline([\n",
    "    (\"scaler\", StandardScaler()),   # scaling step\n",
    "    (\"model\", xgb)            # best model\n",
    "])\n",
    "\n",
    "# Fit pipeline on training data\n",
    "final_pipeline.fit(X_train, Y_train)\n",
    "\n",
    "# Save pipeline (preprocessing + model)\n",
    "joblib.dump(final_pipeline, \"fraud_detection_pipeline.pkl\")\n",
    "\n",
    "print(\"Final pipeline saved as fraud_detection_pipeline.pkl\")"
   ],
   "outputs": [
    {
     "name": "stderr",
     "output_type": "stream",
     "text": [
      "C:\\Users\\hp\\PycharmProjects\\FraudDetection\\.venv\\Lib\\site-packages\\xgboost\\training.py:183: UserWarning: [23:51:51] WARNING: C:\\actions-runner\\_work\\xgboost\\xgboost\\src\\learner.cc:738: \n",
      "Parameters: { \"use_label_encoder\" } are not used.\n",
      "\n",
      "  bst.update(dtrain, iteration=i, fobj=obj)\n"
     ]
    },
    {
     "name": "stdout",
     "output_type": "stream",
     "text": [
      "Final pipeline saved as fraud_detection_pipeline.pkl\n"
     ]
    }
   ],
   "execution_count": 42
  },
  {
   "cell_type": "code",
   "id": "44734d91-afbe-4564-b906-88a4b7007994",
   "metadata": {
    "ExecuteTime": {
     "end_time": "2025-09-25T18:04:34.184965Z",
     "start_time": "2025-09-25T18:04:33.925816Z"
    }
   },
   "source": [
    "# Load pipeline\n",
    "loaded_pipeline = joblib.load(\"fraud_detection_pipeline.pkl\")\n",
    "\n",
    "sample = X_test.iloc[0:1]\n",
    "# Predict\n",
    "prob = loaded_pipeline.predict_proba(sample)[:, 1]  # probability of fraud\n",
    "print(\"Fraud Probability:\", prob)\n",
    "\n",
    "label = loaded_pipeline.predict(sample)\n",
    "print(\"Prediction (0=Normal, 1=Fraud):\", label)"
   ],
   "outputs": [
    {
     "name": "stdout",
     "output_type": "stream",
     "text": [
      "Fraud Probability: [1.190798e-07]\n",
      "Prediction (0=Normal, 1=Fraud): [0]\n"
     ]
    }
   ],
   "execution_count": 38
  },
  {
   "metadata": {},
   "cell_type": "code",
   "outputs": [],
   "execution_count": null,
   "source": "",
   "id": "605274d6f907532e"
  }
 ],
 "metadata": {
  "kernelspec": {
   "display_name": "Python 3 (ipykernel)",
   "language": "python",
   "name": "python3"
  },
  "language_info": {
   "codemirror_mode": {
    "name": "ipython",
    "version": 3
   },
   "file_extension": ".py",
   "mimetype": "text/x-python",
   "name": "python",
   "nbconvert_exporter": "python",
   "pygments_lexer": "ipython3",
   "version": "3.12.7"
  }
 },
 "nbformat": 4,
 "nbformat_minor": 5
}
